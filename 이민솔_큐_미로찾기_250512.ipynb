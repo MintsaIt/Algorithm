{
  "nbformat": 4,
  "nbformat_minor": 0,
  "metadata": {
    "colab": {
      "provenance": [],
      "authorship_tag": "ABX9TyM+TtfMYmjfBssUXAO3lMcp",
      "include_colab_link": true
    },
    "kernelspec": {
      "name": "python3",
      "display_name": "Python 3"
    },
    "language_info": {
      "name": "python"
    }
  },
  "cells": [
    {
      "cell_type": "markdown",
      "metadata": {
        "id": "view-in-github",
        "colab_type": "text"
      },
      "source": [
        "<a href=\"https://colab.research.google.com/github/MintsaIt/Mintport/blob/Polytech-AI-software-class/%EC%9D%B4%EB%AF%BC%EC%86%94_%ED%81%90_%EB%AF%B8%EB%A1%9C%EC%B0%BE%EA%B8%B0_250512.ipynb\" target=\"_parent\"><img src=\"https://colab.research.google.com/assets/colab-badge.svg\" alt=\"Open In Colab\"/></a>"
      ]
    },
    {
      "cell_type": "markdown",
      "source": [
        "큐 ADT"
      ],
      "metadata": {
        "id": "GvVzLLJkD_zL"
      }
    },
    {
      "cell_type": "code",
      "execution_count": null,
      "metadata": {
        "id": "yZRCTW07yoI1"
      },
      "outputs": [],
      "source": [
        "MAX_Qsize = 10\n",
        "class 원형큐 :\n",
        "    def __init__(self) :\n",
        "        self.front = 0   #전단 포인터\n",
        "        self.rear=0      #후단포인터\n",
        "        self.items = [None] * MAX_QSize\n",
        "\n",
        "    def isEmpty(self) :\n",
        "        return self.front == self.rear\n",
        "    def isFull( self ) :\n",
        "        return self.front == (self.rear+1) % MAX_QSIZE #rear를 한 칸 앞으로 이동시킨 인덱스, MAX_QSIZE로 나눈 나머지 > 배열을 벗어나면 0부터 다시 시작 (원형 구조!)\n",
        "    def clear(self) : #큐를 공백상태로 만듬.\n",
        "        self.front=self.rear\n",
        "    def enqueue(self, item) : #항목을 큐의 맨 뒤에 추가\n",
        "        if not self.isFull() :\n",
        "            self.rear =  (self.rear+1) % MAX_Qsize #rear 포인터를 다음 위치로 이동시키는 역할. 단, 원형 큐에서는 배열 끝까지 가면 다시 처음으로 돌아와야 하기 때문에 모듈로 연산(%)을 사용.\n",
        "            self.items[self.rear] = item\n",
        "\n",
        "    def dequeue( self ):\n",
        "        if not self.isEmpty():\n",
        "        self.front = (self.front+1)% MAX_QSIZE\n",
        "        return self.items[self.front]\n",
        "    def peek( self ):\n",
        "        if not self.isEmpty():\n",
        "        return self.items[(self.front + 1) % MAX_QSIZE]\n",
        "    def size( self ) :\n",
        "        return (self.rear - self.front + MAX_QSIZE) % MAX_QSIZE\n",
        "    def display( self ):\n",
        "        out = []\n",
        "        if self.front < self.rear :\n",
        "            out = self.items[self.front+1:self.rear+1]\n",
        "        else:\n",
        "            out = self.items[self.front+1:MAX_QSIZE] \\\n",
        "            + self.items[0:self.rear+1]\n",
        "        print(\"[f=%s,r=%d] ==> \"%(self.front, self.rear), out)"
      ]
    },
    {
      "cell_type": "code",
      "source": [
        "#교재의 큐 활용예시\n",
        "import deque\n",
        "\n",
        "#큐 import : queue.Queue(maxsize = )\n",
        "Q = queue.Queue(maxsize = 20) #무한대 크기의 큐를 만들려면? > maxsize = 0\n",
        "\n",
        "for v in range(1, 10) :\n",
        "    Q.put(v)\n",
        "\n",
        "print(\"큐의 내용: \", end='')\n",
        "\n",
        "for _ in range(1, 10) :\n",
        "    print(Q.get(), end=' ')\n",
        "\n",
        "print()"
      ],
      "metadata": {
        "colab": {
          "base_uri": "https://localhost:8080/"
        },
        "id": "hRd6AQH44gtL",
        "outputId": "d702d6f8-4cad-49be-8a24-0a97dd089f80"
      },
      "execution_count": null,
      "outputs": [
        {
          "output_type": "stream",
          "name": "stdout",
          "text": [
            "큐의 내용: 1 2 3 4 5 6 7 8 9 \n"
          ]
        }
      ]
    },
    {
      "cell_type": "markdown",
      "source": [
        "#미로찾기 구상(미완성ㅠㅠ)#\n",
        "1. 위치를 저장할 큐를 만든다.\n",
        "2. 출발점(e)은 이미 방문한 위치임을 표시하고, 큐에 위치(0,0)을 넣는다.\n",
        "3. 큐가 빌 때까지<br>\n",
        "(1) 큐에서 하나의 위치 p를 꺼냄<br>\n",
        "(2) p에서 한칸 떨어진(+1) 위치들 중에서 이동 가능하면서 아직 방문하지 않은 모든 위치들을 방문된 위치임을 표시하고 큐에 넣는다.<br>\n",
        "(3) 만약 그 위치가 출구 x라면 종료한다.<br>\n",
        "4. 만약 최단 경로를 알고싶다면, 각 위치에 시작점으로부터의 거리를 숫자로 매기고 탈출 지점에서부터 수가 줄어드는 방향으로 움직였을 때 위치의 수를 센다<br>\n",
        "참고자료: 위키독스 큐 구현하기 https://wikidocs.net/192523"
      ],
      "metadata": {
        "id": "ebtrzxKTHqEC"
      }
    },
    {
      "cell_type": "code",
      "source": [
        "from collections import deque\n",
        "\n",
        "MAZE_SIZE = 6\n",
        "map = [ [ '1', '1', '1', '1', '1', '1' ],\n",
        "        [ 'e', '0', '0', '0', '0', '1' ],\n",
        "        [ '1', '0', '1', '0', '1', '1' ],\n",
        "        [ '1', '1', '1', '0', '0', 'x' ],\n",
        "        [ '1', '1', '1', '0', '1', '1' ],\n",
        "        [ '1', '1', '1', '1', '1', '1' ]]\n",
        "\n",
        "\n",
        "\n",
        "# 1. 위치를 저장할 큐\n",
        "visited = queue.Queue(maxsize = 11)\n",
        "\n",
        "# 2. e는 방문한 위치임을 표시하고 큐에 위치를 넣는다.\n",
        "#시작점의 위치 특정\n",
        "for i, row in enumerate(map):\n",
        "    for j, item in enumerate(row):\n",
        "        if item == 'e':\n",
        "            start = (i, j)\n",
        "print(\"시작지점 :\",start)\n",
        "#큐에 e 위치 삽입.\n",
        "visited.put(start)\n",
        "\n",
        "#3.1. 현 위치에서 한칸 떨어진(+1) 위치들 중에서 이동 가능하면서 아직 방문하지 않은 모든 위치들을 방문된 위치임을 표시하고 큐에 넣는다.\n",
        "x=0\n",
        "y=0\n",
        "\n",
        "print(visited)\n"
      ],
      "metadata": {
        "colab": {
          "base_uri": "https://localhost:8080/"
        },
        "id": "6kv8MvLDI1Oh",
        "outputId": "346783ae-faff-4e08-f491-d0e6b9f262ca"
      },
      "execution_count": null,
      "outputs": [
        {
          "output_type": "stream",
          "name": "stdout",
          "text": [
            "시작지점 : (1, 0)\n",
            "<queue.Queue object at 0x7a862a3ddcd0>\n"
          ]
        }
      ]
    },
    {
      "cell_type": "code",
      "source": [
        "#GPT 답변\n",
        "from collections import deque\n",
        "\n",
        "def escape_maze(maze):\n",
        "    n, m = len(maze), len(maze[0])  # 미로 크기\n",
        "    queue = deque()  # (1) 위치를 저장할 큐 생성\n",
        "\n",
        "    # (2) 출발점 (0, 0)을 방문 표시하고 큐에 추가\n",
        "    queue.append((0, 0))\n",
        "    visited = [[False] * m for _ in range(n)]\n",
        "    visited[0][0] = True\n",
        "\n",
        "    # 시작점 거리 1로 초기화 (경로 계산용)\n",
        "    distance = [[0] * m for _ in range(n)]\n",
        "    distance[0][0] = 1\n",
        "\n",
        "    # 상, 하, 좌, 우 이동 방향\n",
        "    directions = [(-1,0), (1,0), (0,-1), (0,1)]\n",
        "\n",
        "    # (3) 큐가 빌 때까지 반복\n",
        "    while queue:\n",
        "        x, y = queue.popleft()  # (3-1) 큐에서 위치 p 꺼냄\n",
        "\n",
        "        for dx, dy in directions:\n",
        "            nx, ny = x + dx, y + dy\n",
        "\n",
        "            # (3-2) 이동 가능하고 아직 방문하지 않은 위치\n",
        "            if 0 <= nx < n and 0 <= ny < m:\n",
        "                if maze[nx][ny] == 1 and not visited[nx][ny]:\n",
        "                    visited[nx][ny] = True  # 방문 표시\n",
        "                    distance[nx][ny] = distance[x][y] + 1  # 거리 기록\n",
        "                    queue.append((nx, ny))  # 큐에 넣음\n",
        "\n",
        "                    # (3-3) 출구 도달 시 종료\n",
        "                    if nx == n-1 and ny == m-1:\n",
        "                        return distance[nx][ny]\n",
        "\n",
        "    # 출구에 도달하지 못한 경우\n",
        "    return -1\n"
      ],
      "metadata": {
        "id": "cnGleWFRRZsM"
      },
      "execution_count": null,
      "outputs": []
    },
    {
      "cell_type": "code",
      "source": [
        "MAZE_SIZE = 6\n",
        "\n",
        "map = [ [ '1', '1', '1', '1', '1', '1' ],\n",
        "        [ 'e', '0', '0', '0', '0', '1' ],\n",
        "        [ '1', '0', '1', '0', '1', '1' ],\n",
        "        [ '1', '1', '1', '0', '0', 'x' ],\n",
        "        [ '1', '1', '1', '0', '1', '1' ],\n",
        "        [ '1', '1', '1', '1', '1', '1' ]]\n",
        "\n",
        "#시작점의 위치 특정\n",
        "for i, row in enumerate(map):\n",
        "    for j, item in enumerate(row):\n",
        "        if item == 'e':\n",
        "            start = (i, j)\n",
        "\n",
        "visited = set()\n",
        "search = queue.Queue(maxsize = 8)\n",
        "search = deque([start])\n",
        "visited.add(start)\n",
        "\n",
        "\n"
      ],
      "metadata": {
        "id": "JDIv_TNh5iMb"
      },
      "execution_count": null,
      "outputs": []
    }
  ]
}