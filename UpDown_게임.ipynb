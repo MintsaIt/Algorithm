{
  "nbformat": 4,
  "nbformat_minor": 0,
  "metadata": {
    "colab": {
      "provenance": [],
      "authorship_tag": "ABX9TyO4QrKfZ7rmRyqLD5vgWqmb",
      "include_colab_link": true
    },
    "kernelspec": {
      "name": "python3",
      "display_name": "Python 3"
    },
    "language_info": {
      "name": "python"
    }
  },
  "cells": [
    {
      "cell_type": "markdown",
      "metadata": {
        "id": "view-in-github",
        "colab_type": "text"
      },
      "source": [
        "<a href=\"https://colab.research.google.com/github/MintsaIt/Algorithm/blob/Polytech-AI-software-class/UpDown_%EA%B2%8C%EC%9E%84.ipynb\" target=\"_parent\"><img src=\"https://colab.research.google.com/assets/colab-badge.svg\" alt=\"Open In Colab\"/></a>"
      ]
    },
    {
      "cell_type": "code",
      "source": [
        "import random"
      ],
      "metadata": {
        "id": "uEg04Mo7WH4R"
      },
      "execution_count": null,
      "outputs": []
    },
    {
      "cell_type": "code",
      "execution_count": null,
      "metadata": {
        "id": "220rWrf8VSJS"
      },
      "outputs": [],
      "source": [
        "최소숫자 = 0 #None\n",
        "최대숫자 = 100 #None\n",
        "랜덤숫자 = random.randint(최소숫자, 최대숫자) #None\n",
        "시도 횟수 = 0 #None\n",
        "최대_시도횟수 = 10 #None\n",
        "정답_맞춤여부 = False"
      ]
    },
    {
      "cell_type": "code",
      "source": [
        "for 횟수 in range(최대_시도횟수):\n",
        "    사용자숫자 = int(input(\"{}~{} 사이의 숫자 입력: \".format(최소숫자, 최대숫자)))\n",
        "    시도횟수 =  시도횟수 +1\n",
        "\n",
        "    if 사용자 숫자 == 랜덤숫자:\n",
        "        print(\"{}번째만에 숫자를 맞췄습니다! 축하합니다.\".format(시도횟수))\n",
        "        정답_맞춤여부 = True\n",
        "        break\n",
        "    elif 사용자 숫자 > 랜덤숫자:\n",
        "        print(\"입력한 숫자 {}은 맞춰야 할 숫자보다 큽니다.\".format(사용자숫자))\n",
        "    else :\n",
        "        print(\"입력한 숫자 {}은 맞춰야 할 숫자보다 작습니다.\".format(사용자숫자))\n",
        "\n",
        "if not 정답_맞춤여부 #false를 적지 않고도 조건문 적을 수 있음. if not\n",
        "    print(\"숫자를 맞추지 못했습니다.\")"
      ],
      "metadata": {
        "id": "cD94WgT3W6pC"
      },
      "execution_count": null,
      "outputs": []
    },
    {
      "cell_type": "code",
      "source": [
        "#함수를 이용한 방법\n",
        "\n",
        "def 숫자비교(정답, 답안):\n",
        "        \"\"\"숫자가 같으면 0을 반환\n",
        "        답안이 정답보다 크면 1을 반환\n",
        "        답안이 정답보다 작으면 2를 반환 \"\"\"\n",
        "    if 정답 == 답안:\n",
        "        return 0\n",
        "        pass\n",
        "    elif 정답 > 답안:\n",
        "        return 2\n",
        "        pass\n",
        "    else:\n",
        "        return 1\n",
        "        pass"
      ],
      "metadata": {
        "id": "GFD7pYTgZbJr"
      },
      "execution_count": null,
      "outputs": []
    },
    {
      "cell_type": "code",
      "source": [
        "#함수를 이용한 방법2\n",
        "\n",
        "def 숫자비교(정답, 답안, 시도횟수):\n",
        "        \"\"\"\n",
        "        반환값: [정답유무, 출력문구]\n",
        "        숫자가 같으면 0을 반환\n",
        "        답안이 정답보다 크면 1을 반환\n",
        "        답안이 정답보다 작으면 2를 반환 \"\"\"\n",
        "    if 정답 == 답안:\n",
        "        return [True, \"{}번째만에 숫자를 맞췄습니다! 축하합니다.\".format(시도횟수)]\n",
        "        pass\n",
        "    elif 정답 > 답안:\n",
        "        return [False, \"입력한 숫자 {}은 맞춰야 할 숫자보다 큽니다.\".format(사용자숫자)]\n",
        "        pass\n",
        "    else:\n",
        "        return [False, \"입력한 숫자 {}은 맞춰야 할 숫자보다 작습니다.\".format(사용자숫자)]\n",
        "        pass"
      ],
      "metadata": {
        "id": "D_Yu9ShZ0Orz"
      },
      "execution_count": null,
      "outputs": []
    },
    {
      "cell_type": "code",
      "source": [],
      "metadata": {
        "id": "eP9w5xWq0osK"
      },
      "execution_count": null,
      "outputs": []
    }
  ]
}