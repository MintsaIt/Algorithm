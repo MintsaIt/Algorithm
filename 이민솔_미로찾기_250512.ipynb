{
  "cells": [
    {
      "cell_type": "markdown",
      "metadata": {
        "id": "GvVzLLJkD_zL"
      },
      "source": [
        "#이론공부\n",
        "\n",
        "[1. 미로찾기 ADT](https://devmath.tistory.com/19)\n",
        "<br>나동빈, 『이것이 취업을 위한 코딩테스트다 with 파이썬』, 한빛미디어(주), 2020년\n",
        "\n",
        "\n",
        "[2. 파이썬에서 큐 자료구조를 사용하는 방법 3가지](https://velog.io/@sossont/Python-Queue-%EC%9E%90%EB%A3%8C%EA%B5%AC%EC%A1%B0-%EC%82%AC%EC%9A%A9%ED%95%98%EA%B8%B0)\n",
        "\n",
        "1. List 자료구조 사용하기\n",
        "<br>:  큐를 사용하는 효과를 내나, 성능적으로 큐 전용 자료구조보다 떨어짐. <br>.append(n)로 추가, .pop(0)로 맨앞 데이터 제거.\n",
        "2. Collections 모듈의 deque 사용하기\n",
        "<br>:  double-ended queue의 약자로 데이터를 양방향에서 추가하고 제거 가능. <br>popleft() 라는 메서드를 사용하면 list의 pop(0) 매서드와 같은 효과.\n",
        "3. queue 모듈의 Queue 클래스 사용하기\n",
        "<br>데이터 추가 : put(x) <br>\n",
        "데이터 삭제 : get() 메서드\n",
        "\n",
        "[3. map 함수 사용법](https://blockdmask.tistory.com/531)<br>\n",
        "map(function, iterable)<br>\n",
        " 첫 번째 매개변수로는 함수가 오고 두 번째 매개변수로는 반복 가능한 자료형(리스트, 튜플 등)이 온다.<br>\n",
        " map 함수의 반환 값은 map객체이기 때문에 해당 자료형을 list 혹은 tuple로 형 변환시켜주어야 함.\n",
        "\n"
      ]
    },
    {
      "cell_type": "code",
      "execution_count": null,
      "metadata": {
        "colab": {
          "base_uri": "https://localhost:8080/"
        },
        "id": "2xlU4KMnfuKe",
        "outputId": "5301902b-843a-4a71-e353-a15315a1630e"
      },
      "outputs": [
        {
          "name": "stdout",
          "output_type": "stream",
          "text": [
            "시작지점:  deque([(1, 0)])\n",
            "( 1 , 1 )확인\n",
            "( 1 , 2 )확인\n",
            "( 2 , 1 )확인\n",
            "( 1 , 3 )확인\n",
            "( 1 , 4 )확인\n",
            "( 2 , 3 )확인\n",
            "( 3 , 3 )확인\n",
            "( 3 , 4 )확인\n",
            "( 4 , 3 )확인\n",
            "탈출좌표 :  3 , 5\n",
            "['1', '1', '1', '1', '1', '1']\n",
            "['e', '2', '2', '2', '2', '1']\n",
            "['1', '2', '1', '2', '1', '1']\n",
            "['1', '1', '1', '2', '2', 'x']\n",
            "['1', '1', '1', '2', '1', '1']\n",
            "['1', '1', '1', '1', '1', '1']\n"
          ]
        }
      ],
      "source": [
        "from collections import deque\n",
        "\n",
        "graph = [ [ '1', '1', '1', '1', '1', '1' ],\n",
        "        [ 'e', '0', '0', '0', '0', '1' ],\n",
        "        [ '1', '0', '1', '0', '1', '1' ],\n",
        "        [ '1', '1', '1', '0', '0', 'x' ],\n",
        "        [ '1', '1', '1', '0', '1', '1' ],\n",
        "        [ '1', '1', '1', '1', '1', '1' ]]\n",
        "\n",
        "#시작점의 위치 특정\n",
        "for i, row in enumerate(graph):\n",
        "    for j, item in enumerate(row):\n",
        "        if item == 'e':\n",
        "            start = (i, j)\n",
        "\n",
        "# 이동할 네 방향 정의 (상, 하, 좌, 우)\n",
        "dx = [-1,0,1,0]\n",
        "dy = [0,1,0,-1]\n",
        "\n",
        "# BFS 구현\n",
        "def bfs(x, y):\n",
        "    # 큐 구현을 위해 deque 라이브러리 사용\n",
        "    queue = deque()\n",
        "    x,y = start\n",
        "    n = len(graph)\n",
        "    m = len(graph[0])\n",
        "    queue.append((x,y))\n",
        "    print(\"시작지점: \",queue)\n",
        "\n",
        "    # 큐가 빌때까지 반복\n",
        "    while queue: #★큐가 비면 False\n",
        "        x, y = queue.popleft()\n",
        "        # 현재 위치에서 네 방향으로의 위치 확인\n",
        "        for i in range(4):\n",
        "            nx = x + dx[i]\n",
        "            ny = y + dy[i]\n",
        "\n",
        "            # 미로 찾기 공간 범위를 벗어난 경우 무시\n",
        "            if nx < 0 or nx >= n or ny < 0 or ny >= m:\n",
        "                continue\n",
        "            # 벽이 있으면 무시\n",
        "            if graph[nx][ny] == '1':\n",
        "                continue\n",
        "            # 해당 노드를 처음 방문하는 경우에만 최단 거리 기록\n",
        "            if graph[nx][ny] == '0':\n",
        "                graph[nx][ny] = \"2\"\n",
        "                queue.append((nx,ny))\n",
        "                print(\"(\",nx,\",\",ny,\")확인\")\n",
        "            #탈출지점을 찾으면 종료\n",
        "            if graph[nx][ny] == 'x' :\n",
        "                print(\"탈출좌표 : \",nx,\",\",ny)\n",
        "                break\n",
        "\n",
        "# bfs를 수행한 결과 출력\n",
        "play = bfs(start[0],start[1])\n",
        "for c in  range(0,len(graph)):\n",
        "    print(graph[c])"
      ]
    },
    {
      "cell_type": "code",
      "execution_count": 71,
      "metadata": {
        "id": "7CASyvup3ZmB"
      },
      "outputs": [],
      "source": [
        "class 미로:\n",
        "    def __init__(self):\n",
        "        self.graph = [ [ '1', '1', '1', '1', '1', '1' ],\n",
        "        [ 'e', '0', '0', '0', '0', '1' ],\n",
        "        [ '1', '0', '1', '0', '1', '1' ],\n",
        "        [ '1', '1', '1', '0', '0', 'x' ],\n",
        "        [ '1', '1', '1', '0', '1', '1' ],\n",
        "        [ '1', '1', '1', '1', '1', '1' ]]\n",
        "\n",
        "        for i, row in enumerate(graph):\n",
        "            for j, item in enumerate(row):\n",
        "                if item == 'e':\n",
        "                    self.start = (i, j)\n",
        "\n",
        "        self.dx = [-1,0,1,0]\n",
        "        self.dy = [0,1,0,-1]\n",
        "\n",
        "\n",
        "        self.queue = deque()\n",
        "        self.x, self.y = start\n",
        "        self.n = len(graph)\n",
        "        self.m = len(graph[0])\n",
        "        self.queue.append((x,y))\n",
        "        print(\"시작지점: \",queue)\n",
        "\n",
        "    def bfs(self,x, y):\n",
        "        while self.queue:\n",
        "            self.x, self.y = self.queue.popleft()\n",
        "\n",
        "            for i in range(4):\n",
        "                nx = x + dx[i]\n",
        "                ny = y + dy[i]\n",
        "\n",
        "                if nx < 0 or nx >= n or ny < 0 or ny >= m:\n",
        "                    continue\n",
        "                if self.graph[nx][ny] == '1':\n",
        "                    continue\n",
        "                if self.graph[nx][ny] == '0':\n",
        "                    graph[nx][ny] = \"2\"\n",
        "                    self.queue.append((nx,ny))\n",
        "                    print(\"(\",nx,\",\",ny,\")확인\")\n",
        "                if graph[nx][ny] == 'x' :\n",
        "                    print(\"탈출좌표 : \",nx,\",\",ny)\n",
        "                    break\n",
        "    def 출력(self):\n",
        "        for c in  range(0,len(graph)):\n",
        "            print(graph[c])\n"
      ]
    },
    {
      "cell_type": "code",
      "execution_count": null,
      "metadata": {
        "id": "_2ZMuTfs3ZlD"
      },
      "outputs": [],
      "source": []
    }
  ],
  "metadata": {
    "colab": {
      "collapsed_sections": [
        "GvVzLLJkD_zL"
      ],
      "provenance": []
    },
    "kernelspec": {
      "display_name": "Python 3",
      "name": "python3"
    },
    "language_info": {
      "name": "python"
    }
  },
  "nbformat": 4,
  "nbformat_minor": 0
}
