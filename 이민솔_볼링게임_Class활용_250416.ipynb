{
  "nbformat": 4,
  "nbformat_minor": 0,
  "metadata": {
    "colab": {
      "provenance": [],
      "authorship_tag": "ABX9TyPA5R4s88AqN6YqerghFcf4",
      "include_colab_link": true
    },
    "kernelspec": {
      "name": "python3",
      "display_name": "Python 3"
    },
    "language_info": {
      "name": "python"
    }
  },
  "cells": [
    {
      "cell_type": "markdown",
      "metadata": {
        "id": "view-in-github",
        "colab_type": "text"
      },
      "source": [
        "<a href=\"https://colab.research.google.com/github/MintsaIt/Mintport/blob/Polytech-AI-software-class/%EC%9D%B4%EB%AF%BC%EC%86%94_%EB%B3%BC%EB%A7%81%EA%B2%8C%EC%9E%84_Class%ED%99%9C%EC%9A%A9_250416.ipynb\" target=\"_parent\"><img src=\"https://colab.research.google.com/assets/colab-badge.svg\" alt=\"Open In Colab\"/></a>"
      ]
    },
    {
      "cell_type": "markdown",
      "source": [
        "일단 함수로 바꿔보고 Class로 바꾸기.<br>\n",
        "볼링 계산 이라는 Class 안에 <br>\n",
        "def 투구<br>\n",
        "계산 호출<br><br>\n",
        "def 계산<br>\n"
      ],
      "metadata": {
        "id": "sPXaTYWaJl9G"
      }
    },
    {
      "cell_type": "code",
      "source": [
        "#이름을 대입하여 간단하게 class활용하기\n",
        "import random\n",
        "\n",
        "first=[0]*10\n",
        "second=[0]*10\n",
        "sta=[0]*10\n",
        "\n",
        "class bowling:\n",
        "    def __init__(self, 이름):\n",
        "        self.이름 = 이름\n",
        "\n",
        "    def 게임시작(self, 이름):\n",
        "        for f in range(0,10) :\n",
        "            s1 = random.randint(0,10)\n",
        "            first[f]=s1\n",
        "\n",
        "            if s1 == 10 :\n",
        "                second[f]=0\n",
        "                sta[f]=2\n",
        "            else:\n",
        "                s2 = random.randint(0,10-s1)\n",
        "                second[f]=s2\n",
        "                if first[f]+second[f] == 10 :\n",
        "                    sta[f]=1\n",
        "                else :\n",
        "                    sta[f]=0\n",
        "\n",
        "        print(이름)\n",
        "        print(\"1번째 공: \",first)\n",
        "        print(\"2번째 공: \",second)\n",
        "        print(\"보너스:   \",sta)\n",
        "\n",
        "\n",
        "        score=[0]*10\n",
        "        score[0]=int(first[0])+int(second[0])\n",
        "\n",
        "        for f in range(0,9):\n",
        "            if sta[f] == 2:\n",
        "                score[f] = int(first[f])+int(second[f])+int(first[f+1])+int(second[f+1])\n",
        "            elif sta[f] == 1 :\n",
        "                score[f] = int(first[f])+int(second[f])+int(first[f+1])\n",
        "            else :\n",
        "                score[f] = int(first[f])+int(second[f])\n",
        "\n",
        "\n",
        "        if sta[9] == 2:\n",
        "            bonus1 = random.randint(0,10)\n",
        "            bonus2 = random.randint(0,10-bonus1)\n",
        "            score[9]=first[9]+second[9]+bonus1+bonus2\n",
        "\n",
        "        elif sta[9] == 1:\n",
        "            bonus1 = random.randint(0,10)\n",
        "            score[9]=first[9]+second[9]+bonus1\n",
        "\n",
        "        else:\n",
        "            score[9]=first[9]+second[9]\n",
        "\n",
        "\n",
        "        print(\"점수:     \",score, 이름, \"총계:\", sum(score),\"점\")\n",
        "\n",
        "김철수 = bowling('김철수')\n",
        "\n",
        "김철수.게임시작('김철수')"
      ],
      "metadata": {
        "colab": {
          "base_uri": "https://localhost:8080/"
        },
        "id": "CqId9Ez2RU_y",
        "outputId": "1eff8417-fdee-4ed5-e66c-78ec0d269d7a"
      },
      "execution_count": null,
      "outputs": [
        {
          "output_type": "stream",
          "name": "stdout",
          "text": [
            "김철수\n",
            "1번째 공:  [1, 0, 4, 2, 9, 5, 9, 7, 0, 2]\n",
            "2번째 공:  [0, 8, 0, 1, 0, 5, 1, 1, 8, 8]\n",
            "보너스:    [0, 0, 0, 0, 0, 1, 1, 0, 0, 1]\n",
            "점수:      [1, 8, 4, 3, 9, 19, 17, 8, 8, 14] 김철수 총계: 91 점\n"
          ]
        }
      ]
    },
    {
      "cell_type": "code",
      "source": [
        "#먼저 함수로 볼링게임 만들기\n",
        "import random\n",
        "\n",
        "first=[0]*10\n",
        "second=[0]*10\n",
        "sta=[0]*10\n",
        "\n",
        "def 공굴리기() :     #스페어, 스트라이크 처리 전 점수표, 상태표 만들기\n",
        "    for f in range(0,10) :\n",
        "        s1 = random.randint(0,10)\n",
        "        first[f]=s1\n",
        "\n",
        "        if s1 == 10 :\n",
        "            second[f]=0\n",
        "            sta[f]=2\n",
        "        else:\n",
        "            s2 = random.randint(0, 10-s1)\n",
        "            second[f]=s2\n",
        "            if first[f]+second[f] == 10 :\n",
        "                sta[f]=1\n",
        "            else :\n",
        "                sta[f]=0\n",
        "\n",
        "    return(first)\n",
        "    return(second)\n",
        "    return(sta)\n",
        "\n",
        "\n",
        "def 점수내기(name, first, second, sta) :    #상태표에따라 점수 더하기.\n",
        "#마지막 스페어, 스트라이크는 추가 회차를 주므로 그 경우는 따로 다루기 때문에 (1~9)\n",
        "\n",
        "    score=[0]*10\n",
        "\n",
        "    for f in range(0,9):\n",
        "        if sta[f] == 2:\n",
        "            if sta[f+1] == 2 and f < 8:  # 연속 스트라이크\n",
        "                score[f] = 10 + first[f+1] + first[f+2]\n",
        "            else:\n",
        "                score[f] = 10 + first[f+1] + second[f+1]\n",
        "\n",
        "        elif sta[f] == 1 :\n",
        "            score[f] = 10 + first[f+1]\n",
        "        else :\n",
        "            score[f] = first[f]+second[f]\n",
        "\n",
        "\n",
        "    #마지막 스페어, 스트라이크인 경우\n",
        "    if sta[9] == 2:\n",
        "        bonus1 = random.randint(0,10)\n",
        "        bonus2 = random.randint(0,10)\n",
        "        score[9] = 10 + bonus1 + bonus2\n",
        "\n",
        "\n",
        "    elif sta[9] == 1:\n",
        "        bonus1 = random.randint(0,10)\n",
        "        score[9]= 10 + bonus1\n",
        "\n",
        "    else:\n",
        "        score[9]=first[9]+second[9]\n",
        "\n",
        "\n",
        "    print(name,\"\\n점수:\",score, \"\\n총계:\", sum(score),\"점\\n\")\n",
        "\n",
        "공굴리기()\n",
        "점수내기('김철수', first, second, sta)\n"
      ],
      "metadata": {
        "colab": {
          "base_uri": "https://localhost:8080/"
        },
        "id": "YuPLGiF6VUUM",
        "outputId": "10699c0a-2de3-4590-9b10-3cd6ed0c3f71"
      },
      "execution_count": null,
      "outputs": [
        {
          "output_type": "stream",
          "name": "stdout",
          "text": [
            "김철수 \n",
            "점수: [5, 8, 6, 4, 18, 8, 9, 8, 9, 9] \n",
            "총계: 84 점\n",
            "\n"
          ]
        }
      ]
    },
    {
      "cell_type": "code",
      "source": [
        "import random\n",
        "\n",
        "class 볼링:\n",
        "    def __init__(self):\n",
        "        self.first = [0]*10  #오답수정: first = [0]*10 <- 이렇게 하면 first는 그냥 __init__ 안의 지역 변수임.\n",
        "        self.second = [0]*10\n",
        "        self.sta = [0]*10\n",
        "        self.이름 = input(\"이름: \")\n",
        "\n",
        "    def 공굴리기(self) :\n",
        "        for f in range(0,10) :\n",
        "            s1 = random.randint(0,10)\n",
        "            self.first[f]=s1\n",
        "\n",
        "            if s1 == 10 :\n",
        "                self.second[f]=0\n",
        "                self.sta[f]=2\n",
        "            else:\n",
        "                s2 = random.randint(0, 10-s1)\n",
        "                self.second[f]=s2\n",
        "                if self.first[f]+self.second[f] == 10 :\n",
        "                    self.sta[f]=1\n",
        "                else :\n",
        "                    self.sta[f]=0\n",
        "\n",
        "        return self.first, self.second, self.sta\n",
        "\n",
        "    def 점수내기(self) :\n",
        "\n",
        "        self.score = [0]*10 #오답수정: score=[0]*10 <-클래스 안에서는 모두 self.변수로 관리해야함.\n",
        "\n",
        "        for f in range(0,9):\n",
        "            if self.sta[f] == 2:\n",
        "                if self.sta[f+1] == 2 and f < 8:  # 연속 스트라이크\n",
        "                    self.score[f] = 10 + self.first[f+1] + self.first[f+2]\n",
        "                else:\n",
        "                    self.score[f] = 10 + self.first[f+1] + self.second[f+1]\n",
        "\n",
        "            elif self.sta[f] == 1 :\n",
        "                self.score[f] = 10 + self.first[f+1]\n",
        "            else :\n",
        "                self.score[f] = self.first[f]+self.second[f]\n",
        "\n",
        "\n",
        "        #마지막 스페어, 스트라이크인 경우\n",
        "        if self.sta[9] == 2:\n",
        "            bonus1 = random.randint(0,10)\n",
        "            bonus2 = random.randint(0,10)\n",
        "            self.score[9] = 10 + bonus1 + bonus2\n",
        "\n",
        "\n",
        "        elif self.sta[9] == 1:\n",
        "            bonus1 = random.randint(0,10)\n",
        "            self.score[9]= 10 + bonus1\n",
        "\n",
        "        else:\n",
        "            self.score[9]=self.first[9]+self.second[9]\n",
        "\n",
        "    def 누적점수(self):\n",
        "        self.nujuk = [0]*10 #오답수정: self변수\n",
        "        self.nujuk[0] = self.score[0]\n",
        "        for i in range(1, 10):\n",
        "             self.nujuk[i] =  self.nujuk[i-1] + self.score[i]\n",
        "\n",
        "        print(\"1번째 공:    \", self.first)\n",
        "        print(\"2번째 공:    \", self.second)\n",
        "        print(\"프레임 점수: \", self.score)\n",
        "        print(\"누적 점수:   \", self.nujuk)\n",
        "        print(\"총계:        \", self.nujuk[9], \"점\")\n",
        "\n",
        "\n",
        "    def 점수출력(self):\n",
        "        print(self.이름,\"\\n점수:\",self.nujuk, \"\\n총점:\", self.nujuk[9],\"점\\n\")\n",
        "\n",
        "\n",
        "a=볼링()\n",
        "a.공굴리기()  #오답수정:a.공굴리기 -> 메서드를 호출하려면 괄호가 필요.\n",
        "a.점수내기()\n",
        "a.누적점수()"
      ],
      "metadata": {
        "colab": {
          "base_uri": "https://localhost:8080/"
        },
        "id": "SMeJu1EscYna",
        "outputId": "47adda88-2737-401e-e550-126d77f573d3"
      },
      "execution_count": null,
      "outputs": [
        {
          "output_type": "stream",
          "name": "stdout",
          "text": [
            "이름: 2\n",
            "1번째 공:     [7, 2, 9, 3, 4, 9, 8, 1, 9, 2]\n",
            "2번째 공:     [0, 0, 0, 0, 2, 0, 1, 0, 1, 6]\n",
            "프레임 점수:  [7, 2, 9, 3, 6, 9, 9, 1, 12, 8]\n",
            "누적 점수:    [7, 9, 18, 21, 27, 36, 45, 46, 58, 66]\n",
            "총계:         66 점\n"
          ]
        }
      ]
    },
    {
      "cell_type": "code",
      "source": [
        "a.점수출력()"
      ],
      "metadata": {
        "colab": {
          "base_uri": "https://localhost:8080/"
        },
        "id": "pp6WTe1QRImH",
        "outputId": "9d2c5693-4d29-41f9-c253-fc4e82d51404"
      },
      "execution_count": null,
      "outputs": [
        {
          "output_type": "stream",
          "name": "stdout",
          "text": [
            "2 \n",
            "점수: [7, 9, 18, 21, 27, 36, 45, 46, 58, 66] \n",
            "총점: 66 점\n",
            "\n"
          ]
        }
      ]
    }
  ]
}