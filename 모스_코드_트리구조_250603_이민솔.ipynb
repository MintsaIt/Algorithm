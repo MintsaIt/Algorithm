{
  "nbformat": 4,
  "nbformat_minor": 0,
  "metadata": {
    "colab": {
      "provenance": [],
      "authorship_tag": "ABX9TyOHbXFBZYAkgv2LImsRkvqW",
      "include_colab_link": true
    },
    "kernelspec": {
      "name": "python3",
      "display_name": "Python 3"
    },
    "language_info": {
      "name": "python"
    }
  },
  "cells": [
    {
      "cell_type": "markdown",
      "metadata": {
        "id": "view-in-github",
        "colab_type": "text"
      },
      "source": [
        "<a href=\"https://colab.research.google.com/github/MintsaIt/Algorithm/blob/main/%EB%AA%A8%EC%8A%A4_%EC%BD%94%EB%93%9C_%ED%8A%B8%EB%A6%AC%EA%B5%AC%EC%A1%B0_250603_%EC%9D%B4%EB%AF%BC%EC%86%94.ipynb\" target=\"_parent\"><img src=\"https://colab.research.google.com/assets/colab-badge.svg\" alt=\"Open In Colab\"/></a>"
      ]
    },
    {
      "cell_type": "code",
      "execution_count": 4,
      "metadata": {
        "colab": {
          "base_uri": "https://localhost:8080/"
        },
        "id": "8a3TqJrHmo-Z",
        "outputId": "49a4bca3-6f04-43b1-cef3-aa601304dfef"
      },
      "outputs": [
        {
          "output_type": "stream",
          "name": "stdout",
          "text": [
            "디코드 결과: SOS\n"
          ]
        }
      ],
      "source": [
        "class Node: #dot, dash 등의 속성을 이용하기 위해 클래스로 정의.\n",
        "    def __init__(self, char=None):\n",
        "        self.char = char\n",
        "        self.dot = None   #왼쪽 자식 (.)\n",
        "        self.dash = None  #오른쪽 자식 (-)\n",
        "\n",
        "class MorseCodeTree:\n",
        "    def __init__(self):\n",
        "        self.root = Node()\n",
        "        self.모스코드 = {\n",
        "            'A': '.-',  'B': '-...',  'C': '-.-.',  'D': '-..',   'E': '.', 'F': '..-.',  'G': '--.',   'H': '....',  'I': '..',  'J': '.---', 'K': '-.-',   'L': '.-..',  'M': '--',  'N': '-.',    'O': '---', 'P': '.--.',  'Q': '--.-',  'R': '.-.',   'S': '...',   'T': '-', 'U': '..-',  'V': '...-',  'W': '.--',   'X': '-..-',  'Y': '-.--', 'Z': '--..',  '1': '.----', '2': '..---', '3': '...--', '4': '....-', '5': '.....',\n",
        "            '6': '-....', '7': '--...', '8': '---..', '9': '----.', '0': '-----'\n",
        "        }\n",
        "        self.build_tree()\n",
        "\n",
        "    def build_tree(self):\n",
        "        for char in self.모스코드.items():\n",
        "            현재문자 = char[0]  #예: 'A'\n",
        "            모스부호 = char[1]  #예: '.-'\n",
        "            #이 문자와 모스 부호를 트리에 삽입하는 insert 메서드를 호출.\n",
        "            #모스 부호를 따라가며 트리를 만들고 해당 위치에 문자를 저장함.\n",
        "            self.insert(모스부호, 현재문자)\n",
        "\n",
        "\n",
        "    def insert(self, code, char):\n",
        "        node = self.root\n",
        "        for symbol in code:\n",
        "            if symbol == '.':\n",
        "                if not node.dot:\n",
        "                    node.dot = Node()\n",
        "                node = node.dot\n",
        "            elif symbol == '-':\n",
        "                if not node.dash:\n",
        "                    node.dash = Node()\n",
        "                node = node.dash\n",
        "        node.char = char\n",
        "\n",
        "    def decode(self, morse_code):\n",
        "        \"\"\"입력된 코드 간 공백으로 구분된 모스코드 문자열을 문자로 디코드\"\"\"\n",
        "        decoded = ''\n",
        "        for code in morse_code.strip().split(' '):\n",
        "            node = self.root\n",
        "            for symbol in code:\n",
        "                if symbol == '.':\n",
        "                    node = node.dot\n",
        "                elif symbol == '-':\n",
        "                    node = node.dash\n",
        "                else:\n",
        "                    node = None\n",
        "                    break\n",
        "                if node is None:\n",
        "                    break\n",
        "            decoded += node.char if node and node.char else '?'\n",
        "        return decoded\n",
        "\n",
        "\n",
        "if __name__ == \"__main__\":\n",
        "    tree = MorseCodeTree()\n",
        "    SOS = \"... --- ...\"\n",
        "    print(\"디코드 결과:\", tree.decode(SOS))\n"
      ]
    }
  ]
}