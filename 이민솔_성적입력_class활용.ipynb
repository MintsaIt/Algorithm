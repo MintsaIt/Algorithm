{
  "nbformat": 4,
  "nbformat_minor": 0,
  "metadata": {
    "colab": {
      "provenance": [],
      "authorship_tag": "ABX9TyOzomSUVwXVriGcgaM4wttc",
      "include_colab_link": true
    },
    "kernelspec": {
      "name": "python3",
      "display_name": "Python 3"
    },
    "language_info": {
      "name": "python"
    }
  },
  "cells": [
    {
      "cell_type": "markdown",
      "metadata": {
        "id": "view-in-github",
        "colab_type": "text"
      },
      "source": [
        "<a href=\"https://colab.research.google.com/github/MintsaIt/Mintport/blob/Polytech-AI-software-class/%EC%9D%B4%EB%AF%BC%EC%86%94_%EC%84%B1%EC%A0%81%EC%9E%85%EB%A0%A5_class%ED%99%9C%EC%9A%A9.ipynb\" target=\"_parent\"><img src=\"https://colab.research.google.com/assets/colab-badge.svg\" alt=\"Open In Colab\"/></a>"
      ]
    },
    {
      "cell_type": "code",
      "execution_count": null,
      "metadata": {
        "id": "XK4rNuaruQX8"
      },
      "outputs": [],
      "source": [
        "import random\n",
        "\n",
        "class 성적처리:\n",
        "    def __init__(self):\n",
        "        self.a=0\n",
        "        self.점수_생성()  #★오답수정: innit안에 넣어 점수를 먼저 생성해주지 않으면 불러올 점수가 생성된 적이 없어서 입력받기()만 실행했을 때 오류가 남.\n",
        "\n",
        "    def avg(self, scores): #★오답수정 : 모든 매소드(함수)안의 괄호에는 self가 있어야함.\n",
        "            return sum(scores) / len(scores)\n",
        "\n",
        "\n",
        "    def 과목_점수_생성(self): # 학생의 구분은 리스트의 밸류로 하기로 함.0을 1번, ... 9를 10번 학생으로.\n",
        "            return{\n",
        "            \"국어\": [random.randint(0, 100) for i in range(10)],\n",
        "            \"수학\": [random.randint(0, 100) for i in range(10)],\n",
        "            \"영어\": [random.randint(0, 100) for i in range(10)]\n",
        "            }\n",
        "\n",
        "\n",
        "    def 반_점수_생성(self): #총 5반까지.\n",
        "            return {f\"{i}반\": self.과목_점수_생성() for i in range(1, 6)}\n",
        "\n",
        "\n",
        "\n",
        "    def 점수_생성(self): #점수 생성. 1~3학년:1~5반-안에 1~5반:국수영-안에 국어[] 수학[] 영어[] 요래 됨.\n",
        "        self.학년점수 = {f\"{i}학년\": self.반_점수_생성() for i in range(1, 4)}\n",
        "\n",
        "\n",
        "    def 개인성적조회(self) :\n",
        "        grade = int(input(\"학생의 학년을 입력하세요 (범위: 1~3): \"))\n",
        "        class_num = int(input(\"학생의 반을 입력하세요 (범위: 1~5): \"))\n",
        "        subject = input(\"점수를 알고 싶은 과목을 입력하세요 (국어/수학/영어): \")\n",
        "        student = int(input(\"학생의 번호를 입력하세요 (범위: 1~10): \"))\n",
        "\n",
        "        try:\n",
        "            개인점수 = self.학년점수[f\"{grade}학년\"][f\"{class_num}반\"][subject][student - 1]\n",
        "            print(f\"{grade}학년 {class_num}반 {student}번 {subject} 점수: {개인점수}점\\n\\n\")\n",
        "        except (KeyError, IndexError, ValueError):\n",
        "            print(\"입력 값이 올바르지 않습니다. 다시 입력하십시오.\\n\\n\")\n",
        "\n",
        "\n",
        "    def 반평균조회(self) :\n",
        "        subject = input(\"평균을 알고 싶은 과목을 입력하세요 (국어/수학/영어): \")\n",
        "        grade = int(input(\"평균을 알고 싶은 학년을 입력하세요 (범위: 1~3): \"))\n",
        "        class_num = int(input(\"평균을 알고 싶은 반을 입력하세요 (예: 3): \"))\n",
        "\n",
        "        try:\n",
        "            점수리스트 = self.학년점수[f\"{grade}학년\"][f\"{class_num}반\"][subject]\n",
        "            print(f\"{grade}학년 {class_num}반 {subject} 점수 평균: {self.avg(점수리스트):2.2f}점\\n\\n\") #★알게된점: 문자열 내 실수 표현법\n",
        "        except(KeyError, IndexError, ValueError):\n",
        "            print(\"입력 값이 올바르지 않습니다. 다시 입력하십시오.\\n\\n\")\n",
        "\n",
        "\n",
        "    def 종료(self) : #쓰이진 않음. 근데그냥 만들어둠.\n",
        "        print('조회를 종료합니다.')\n",
        "        exit()\n",
        "\n",
        "\n",
        "    def 입력받기(self) :\n",
        "        while self.a != 3:\n",
        "            self.a = int(input(\"성적을 조회합니다. \\n개인 성적 조회를 원하면 1, 평균 조회는 2, 종료하려면 3을 입력해주세요.\\n\"))\n",
        "\n",
        "            if self.a == 1:\n",
        "                self.개인성적조회()\n",
        "            elif self.a == 2:\n",
        "                self.반평균조회()\n",
        "            elif self.a == 3:\n",
        "                print('조회를 종료합니다.')\n",
        "            else:\n",
        "                print(\"1부터 3까지 번호만 입력해주세요.\\n\")\n",
        "                self.입력받기()\n",
        "\n",
        "\n",
        "go = 성적처리()\n",
        "go.입력받기()"
      ]
    }
  ]
}