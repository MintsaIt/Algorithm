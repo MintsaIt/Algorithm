{
  "nbformat": 4,
  "nbformat_minor": 0,
  "metadata": {
    "colab": {
      "provenance": [],
      "authorship_tag": "ABX9TyP8mNnqU80wZ0Qk6BLYA3s6",
      "include_colab_link": true
    },
    "kernelspec": {
      "name": "python3",
      "display_name": "Python 3"
    },
    "language_info": {
      "name": "python"
    }
  },
  "cells": [
    {
      "cell_type": "markdown",
      "metadata": {
        "id": "view-in-github",
        "colab_type": "text"
      },
      "source": [
        "<a href=\"https://colab.research.google.com/github/MintsaIt/Algorithm/blob/main/(%EC%9D%B4%EB%AF%BC%EC%86%94)%EB%8D%94%EC%B9%98%ED%8E%98%EC%9D%B4_250416.ipynb\" target=\"_parent\"><img src=\"https://colab.research.google.com/assets/colab-badge.svg\" alt=\"Open In Colab\"/></a>"
      ]
    },
    {
      "cell_type": "markdown",
      "source": [
        "**더치페이 프로그램**\n",
        "\n",
        "김, 고, 장, 백은 모임에서 식당을 바를 갔다가 카페를 갔다.\n",
        "이 때 식당, 바, 카페에서 나온 금액을 각각 입력받고 각자 먹은 만큼 계산할 수 있는 코드를 만든다.\n",
        "각각의 인원은 중간까지만 가거나, 중간에 합류할 수 있다.\n",
        "\n",
        "예시)고와 장은 식당은 가지 않고 바에서 합류했으며, 백과 장은 카페를 가지 않고 먼저 일어났다."
      ],
      "metadata": {
        "id": "YXCGnmM7tZaX"
      }
    },
    {
      "cell_type": "code",
      "execution_count": null,
      "metadata": {
        "colab": {
          "base_uri": "https://localhost:8080/",
          "height": 110
        },
        "id": "UrQoRXPotHuF",
        "outputId": "6bcda8b1-099c-4a31-90f8-91cde43d4399"
      },
      "outputs": [
        {
          "output_type": "error",
          "ename": "SyntaxError",
          "evalue": "'return' outside function (<ipython-input-13-6962f9629c27>, line 10)",
          "traceback": [
            "\u001b[0;36m  File \u001b[0;32m\"<ipython-input-13-6962f9629c27>\"\u001b[0;36m, line \u001b[0;32m10\u001b[0m\n\u001b[0;31m    return 0\u001b[0m\n\u001b[0m    ^\u001b[0m\n\u001b[0;31mSyntaxError\u001b[0m\u001b[0;31m:\u001b[0m 'return' outside function\n"
          ]
        }
      ],
      "source": [
        "\n",
        "participants=[0]*20\n",
        "\n",
        "for i in range(0,21):\n",
        "        print(i+1,\"\",\"번째 인원의 이름을 입력하세요.\")\n",
        "        participants[i]=input(\"전부 입력하였으면 \\'0\\'을 입력하세요. : \")\n",
        "\n",
        "        if participants[-1] == 0 :\n",
        "            if count(participants) > 0 :\n",
        "                print(\"참여자가 입력되지 않았습니다.\")\n",
        "                return 0\n",
        "\n",
        "            else:\n",
        "                print(\"입력이 완료되었습니다.\")\n",
        "                break\n",
        "\n",
        "\n",
        "\n",
        "restau = input(\"\\n1차 금액을 입력하세요 : \")\n",
        "\n",
        "bar = input(\"2차 금액을 입력하세요 : \")\n",
        "cafe = input(\"3차 금액을 입력하세요 : \")\n",
        "\n",
        "\n",
        "\n"
      ]
    },
    {
      "cell_type": "code",
      "source": [
        "# 총 금액 입력\n",
        "restau = int(input(\"식당 금액: \"))\n",
        "bar = int(input(\"바 금액: \"))\n",
        "cafe = int(input(\"카페 금액: \"))\n",
        "\n",
        "# 각 장소 참여 인원 입력\n",
        "res_members = input(\"식당에 간 사람들 (쉼표로 구분): \").split(\",\")\n",
        "    #split: 문자열로 표현된 url에서 `.`을 기준으로 분리하여 리스트화. ex) 스트링명.split('기준문자').\n",
        "    #★알게된점---> aa = input().split(',') 으로 바로 입력받아 스플라이싱도 가능.\n",
        "bar_members = input(\"바에 간 사람들 (쉼표로 구분): \").split(\",\")\n",
        "cafe_members = input(\"카페에 간 사람들 (쉼표로 구분): \").split(\",\")\n",
        "\n",
        "# 사람 리스트\n",
        "전원 = set(res_members + bar_members + cafe_members)\n",
        "\n",
        "# 각 사람별 금액 초기화\n",
        "낼돈 = {i: 0 for i in 전원} #사람 이름을 key로 넣음. 금액은 밸류.\n",
        "\n",
        "# 각 장소에서 사람 수만큼 나누기\n",
        "for 이름 in res_members:\n",
        "    낼돈[이름] += restau / len(res_members) #각 장소에 해당하는 사람들의 key(이름)의 밸류에 나눈값을 더함. 실수이기 때문에 0.7804455 이래서 나중에 반올림해야함.\n",
        "for p in bar_members:\n",
        "    낼돈[이름] += bar / len(bar_members)\n",
        "for p in cafe_members:\n",
        "    낼돈[이름] += cafe / len(cafe_members)\n",
        "\n",
        "# 결과 출력\n",
        "print(\"\\n정산 결과:\")\n",
        "for person in sorted(낼돈): #sorted(낼돈)는 딕셔너리의 키(이름들)를 정렬된 리스트로 반환. sorted는 오름차순.\n",
        "                            #★알게된점--->sorted(낼돈)을 따로 객체로 저장하지 않아도 바로 for문에 이용가능\n",
        "    print(f\"{person}: {round(낼돈[person])} 원\") #round()는 소수점 첫째 자리에서 반올림하여 정수로."
      ],
      "metadata": {
        "colab": {
          "base_uri": "https://localhost:8080/"
        },
        "id": "2UBP6zXHKeKZ",
        "outputId": "cd86de8c-b958-4a3b-c8c4-573c9daa19ad"
      },
      "execution_count": null,
      "outputs": [
        {
          "output_type": "stream",
          "name": "stdout",
          "text": [
            "식당 금액: 4545\n",
            "바 금액: 45242\n",
            "카페 금액: 1122\n",
            "식당에 간 사람들 (쉼표로 구분): 김,고\n",
            "바에 간 사람들 (쉼표로 구분): 김,장\n",
            "카페에 간 사람들 (쉼표로 구분): 고,장\n",
            "\n",
            "정산 결과:\n",
            "{'장': 23182.0, '고': 2833.5, '김': 24893.5}\n",
            "고: 2834 원\n",
            "김: 24894 원\n",
            "장: 23182 원\n"
          ]
        }
      ]
    },
    {
      "cell_type": "code",
      "source": [
        "\"\"\"난이도 중 (확장 가능하고 정리된 구조)\n",
        "함수를 사용하고 장소 수가 늘어나도 관리 가능하게 작성.\"\"\"\n",
        "\n",
        "def input_place_cost(name):\n",
        "    cost = int(input(f\"{name} 금액: \"))\n",
        "    members = input(f\"{name}에 간 사람들 (쉼표로 구분): \").split(\",\")\n",
        "    members = [m.strip() for m in members]\n",
        "    return cost, members\n",
        "\n",
        "places = ['식당', '바', '카페']\n",
        "costs = {}\n",
        "participants = {}\n",
        "all_people = set()\n",
        "\n",
        "for place in places:\n",
        "    cost, members = input_place_cost(place)\n",
        "    costs[place] = cost\n",
        "    participants[place] = members\n",
        "    all_people.update(members)\n",
        "\n",
        "bill = {person: 0 for person in all_people}\n",
        "\n",
        "for place in places:\n",
        "    members = participants[place]\n",
        "    share = costs[place] / len(members)\n",
        "    for person in members:\n",
        "        bill[person] += share\n",
        "\n",
        "print(\"\\n정산 결과:\")\n",
        "for person in sorted(bill):\n",
        "    print(f\"{person}: {round(bill[person])} 원\")"
      ],
      "metadata": {
        "id": "DrQf5dtBKjBB"
      },
      "execution_count": null,
      "outputs": []
    },
    {
      "cell_type": "code",
      "source": [
        "\"\"\"난이도 고 (유저 친화적, 유연성 극대화: GUI나 데이터구조 활용 가능)\n",
        "사람마다 어느 장소에 갔는지를 입력받는 방식으로 전환. 장소 수가 달라도 OK. 그리고 pandas를 이용해 보기 좋게 출력.\"\"\"\n",
        "\n",
        "import pandas as pd\n",
        "\n",
        "# 입력 받기\n",
        "places = input(\"장소 이름들을 쉼표로 입력 (예: 식당,바,카페): \").split(\",\")\n",
        "places = [p.strip() for p in places]\n",
        "\n",
        "place_cost = {}\n",
        "place_participants = {}\n",
        "\n",
        "for place in places:\n",
        "    cost = int(input(f\"{place}의 총 금액: \"))\n",
        "    members = input(f\"{place}에 간 사람들 (쉼표로 구분): \").split(\",\")\n",
        "    members = [m.strip() for m in members]\n",
        "    place_cost[place] = cost\n",
        "    place_participants[place] = members\n",
        "\n",
        "# 모든 사람 리스트 생성\n",
        "all_people = set()\n",
        "for members in place_participants.values():\n",
        "    all_people.update(members)\n",
        "\n",
        "# 사람별 정산 딕셔너리\n",
        "bill = {person: 0 for person in all_people}\n",
        "\n",
        "# 계산\n",
        "for place in places:\n",
        "    members = place_participants[place]\n",
        "    cost_per_person = place_cost[place] / len(members)\n",
        "    for person in members:\n",
        "        bill[person] += cost_per_person\n",
        "\n",
        "# pandas로 보기 좋게 출력\n",
        "df = pd.DataFrame.from_dict(bill, orient='index', columns=['정산 금액'])\n",
        "df.index.name = '이름'\n",
        "print(\"\\n정산 결과:\\n\")\n",
        "print(df.round())"
      ],
      "metadata": {
        "id": "fFGjorEKKtFh"
      },
      "execution_count": null,
      "outputs": []
    }
  ]
}