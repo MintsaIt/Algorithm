{
  "nbformat": 4,
  "nbformat_minor": 0,
  "metadata": {
    "colab": {
      "provenance": [],
      "authorship_tag": "ABX9TyMsI9toidz0Tdr0lLuuzHiz",
      "include_colab_link": true
    },
    "kernelspec": {
      "name": "python3",
      "display_name": "Python 3"
    },
    "language_info": {
      "name": "python"
    }
  },
  "cells": [
    {
      "cell_type": "markdown",
      "metadata": {
        "id": "view-in-github",
        "colab_type": "text"
      },
      "source": [
        "<a href=\"https://colab.research.google.com/github/MintsaIt/Mintport/blob/Polytech-AI-software-class/%EC%9D%B4%EB%AF%BC%EC%86%94_%EC%A4%91%EC%9C%84%EC%88%98%EC%8B%9D_%EC%A0%84%EC%9C%84%ED%9B%84%EC%9C%84%EC%A0%84%ED%99%98%ED%95%A8%EC%88%98.ipynb\" target=\"_parent\"><img src=\"https://colab.research.google.com/assets/colab-badge.svg\" alt=\"Open In Colab\"/></a>"
      ]
    },
    {
      "cell_type": "markdown",
      "source": [
        "https://reakwon.tistory.com/62 <br>\n",
        "전, 후위 표기법의 의미와 스택을 이용해 만드는 방법"
      ],
      "metadata": {
        "id": "e4w7JMyarGeA"
      }
    },
    {
      "cell_type": "code",
      "execution_count": null,
      "metadata": {
        "id": "dFSgn30ziRxG"
      },
      "outputs": [],
      "source": [
        "#sik = input(\"연산식을 띄어쓰기 없이 입력하시오 : \")\n",
        "#예시를 작성하고 하는게 직관적일듯....\n",
        "sik = \"9 - ( 9 * ( 8 - ( 2 + 3 ) ) )\"\n",
        "#위의걸 99(8(23)+-)*-  ->  99823+-*-로 바꿔야함.\n",
        "\"\"\"\n",
        "1. 숫자 만나면 결과에 담아두기\n",
        "2. 연산기호 만나면 스택. 나중에 뒤에서부터 꺼내기.\n",
        "3. 언제 연산기호를 꺼내냐? 괄호가 닫힐 때. & 괄호는 pop처리\n",
        "4. 만약 괄호가 잘못됐을 경우 수정할수도 있어야하나...?\n",
        "\"\"\"\n",
        "yoso=sik.split()\n",
        "cal = ('+', '-','*' '/', '%')\n",
        "\n",
        "#후위전환\n",
        "def Pre(yoso):\n",
        "    stack = [] #연산자 담을 스택\n",
        "    output=[] #결과 만들 리스트\n",
        "\n",
        "    for i in yoso :\n",
        "        if i.isalnum(): #숫자나 변수인 경우 결과에 담음.\n",
        "            output.append(i)\n",
        "\n",
        "        elif i in cal : #연산기호 담기\n",
        "            stack.append(i)\n",
        "\n",
        "        elif i == ')' : #닫는 괄호 나오면 연산자 다 꺼내기. 근데 여러개도 되나?\n",
        "            output.append(stack.pop())\n",
        "        else:\n",
        "            pass\n",
        "\n",
        "        return output\n",
        "\n",
        "#전위전환\n",
        "def Back(Yoso):\n",
        "    pass\n",
        "\n"
      ]
    },
    {
      "cell_type": "code",
      "source": [
        "print(yoso)\n",
        "a=Pre(yoso)\n",
        "print(a)"
      ],
      "metadata": {
        "colab": {
          "base_uri": "https://localhost:8080/"
        },
        "id": "_P0opE5wt7Fr",
        "outputId": "9ed1aab4-95c7-41df-9c0b-519007f90f53"
      },
      "execution_count": null,
      "outputs": [
        {
          "output_type": "stream",
          "name": "stdout",
          "text": [
            "['9', '-', '(', '9', '*', '(', '8', '-', '(', '2', '+', '3', ')', ')', ')']\n",
            "['9']\n"
          ]
        }
      ]
    },
    {
      "cell_type": "code",
      "source": [
        "#지피티 개선\n",
        "\n",
        "def infix_to_postfix(expression):\n",
        "    precedence = {'+':1, '-':1, '*':2, '/':2, '^':3}\n",
        "    stack = []  # 연산자를 담을 스택\n",
        "    output = []  # 후위 표기 결과\n",
        "\n",
        "    tokens = expression.split()\n",
        "\n",
        "    for token in tokens:\n",
        "        if token.isalnum():  # 피연산자 (숫자나 변수)\n",
        "            output.append(token)\n",
        "        elif token == '(':\n",
        "            stack.append(token)\n",
        "        elif token == ')':\n",
        "            while stack and stack[-1] != '(':\n",
        "                output.append(stack.pop())\n",
        "            stack.pop()  # '(' 제거\n",
        "        else:  # 연산자\n",
        "            while (stack and stack[-1] != '(' and\n",
        "                   precedence.get(token, 0) <= precedence.get(stack[-1], 0)):\n",
        "                output.append(stack.pop())\n",
        "            stack.append(token)\n",
        "\n",
        "    # 남은 연산자 모두 출력\n",
        "    while stack:\n",
        "        output.append(stack.pop())\n",
        "\n",
        "    return ''.join(output)\n",
        "\n",
        "print(sik)\n",
        "a=infix_to_postfix(sik)\n",
        "print(a)"
      ],
      "metadata": {
        "colab": {
          "base_uri": "https://localhost:8080/"
        },
        "id": "pySkcMEDuZB8",
        "outputId": "0404d4d8-e311-4b2f-ef9d-865c2e5cd68b"
      },
      "execution_count": null,
      "outputs": [
        {
          "output_type": "stream",
          "name": "stdout",
          "text": [
            "9 - ( 9 * ( 8 - ( 2 + 3 ) ) )\n",
            "99823+-*-\n"
          ]
        }
      ]
    }
  ]
}